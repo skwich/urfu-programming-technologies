{
 "cells": [
  {
   "cell_type": "code",
   "execution_count": 1,
   "metadata": {},
   "outputs": [],
   "source": [
    "import pandas as pd\n",
    "import openpyxl as op"
   ]
  },
  {
   "cell_type": "code",
   "execution_count": 2,
   "metadata": {},
   "outputs": [],
   "source": [
    "df = pd.read_csv('vacancies.csv', names=['name','s_from','s_to','s_cur','city','date'])"
   ]
  },
  {
   "cell_type": "markdown",
   "metadata": {},
   "source": [
    "shares = (df.groupby('city')[['name']].size() / len(df) * 100).sort_values(ascending=False).round(2)[:10].to_dict()\n",
    "stat.drop('name', axis=1, inplace=True)\n",
    "stat.values[:10].tolist()"
   ]
  },
  {
   "cell_type": "markdown",
   "metadata": {},
   "source": [
    "df[\"year\"] = df[\"date\"].apply(lambda x: x[:4])\n",
    "df[\"s_avg\"] = df[[\"s_from\", \"s_to\"]].mean(1)\n",
    "df = df.groupby(\"year\", as_index=False).agg({\"s_avg\": \"mean\", \"name\": \"count\"})\n",
    "df[\"s_avg\"] = df[\"s_avg\"].round().astype(int)\n",
    "\n",
    "data = [\"Год\", \"Средняя зарплата\", \"Количество вакансий\"] + df.values.tolist()\n",
    "data"
   ]
  },
  {
   "cell_type": "markdown",
   "metadata": {},
   "source": [
    "<!-- # stat = (\n",
    "#     df.groupby(\"city\", as_index=False)[[\"name\", \"s_avg\"]]\n",
    "#     .agg({\"name\": \"count\", \"s_avg\": \"mean\"})\n",
    "#     .sort_values(\"name\", ascending=False)\n",
    "# )\n",
    "# stat['s_avg'] = stat['s_avg'].round().astype(int)\n",
    "# shares = (\n",
    "#     (df.groupby(\"city\", as_index=False)[\"name\"].size() / len(df) * 100)\n",
    "#     .sort_values(ascending=False)\n",
    "#     .round(2)\n",
    "# ) -->\n",
    "df[\"s_avg\"] = df[[\"s_from\", \"s_to\"]].mean(1)\n",
    "stat = df.groupby('city', as_index=False)[['city','name', 's_avg']].agg({'city':'first', 'name':'count', 's_avg':'mean'}).sort_values('name', ascending=False)\n",
    "stat['s_avg'] = stat['s_avg'].round().astype(int)\n",
    "stat[\"name\"] = (stat[\"name\"] / len(df) * 100).round(2)\n",
    "salaries = (stat[stat['name'] >= 1].sort_values('s_avg', ascending=False))[['city','s_avg']].values[:10].tolist()\n",
    "shares = (stat[stat[\"name\"] >= 1].sort_values([\"name\",\"s_avg\"], ascending=[False,False]))[[\"city\", \"name\"]].values[:10].tolist()\n",
    "salaries"
   ]
  },
  {
   "cell_type": "code",
   "execution_count": 3,
   "metadata": {},
   "outputs": [
    {
     "data": {
      "text/plain": [
       "[['Москва', 32.09],\n",
       " ['Санкт-Петербург', 11.77],\n",
       " ['Новосибирск', 2.64],\n",
       " ['Нижний Новгород', 2.6],\n",
       " ['Казань', 2.55],\n",
       " ['Ростов-на-Дону', 2.21],\n",
       " ['Екатеринбург', 2.0],\n",
       " ['Краснодар', 1.98],\n",
       " ['Самара', 1.49],\n",
       " ['Пермь', 1.34]]"
      ]
     },
     "execution_count": 3,
     "metadata": {},
     "output_type": "execute_result"
    }
   ],
   "source": [
    "df[\"s_avg\"] = df[[\"s_from\", \"s_to\"]].mean(1)\n",
    "stat = (\n",
    "    df.groupby(\"city\", as_index=False)[[\"city\", \"name\", \"s_avg\"]]\n",
    "    .agg({\"city\": \"first\", \"name\": \"count\", \"s_avg\": \"mean\"})\n",
    ")\n",
    "stat[\"s_avg\"] = stat[\"s_avg\"].round().astype(int)\n",
    "stat[\"name\"] = (stat[\"name\"] / len(df) * 100).round(2)\n",
    "\n",
    "salaries = (\n",
    "    (stat[stat[\"name\"] >= 1].sort_values(\"s_avg\", ascending=False))[[\"city\", \"s_avg\"]].values[:10].tolist()\n",
    ")\n",
    "shares = (stat[stat[\"name\"] >= 1].sort_values([\"name\", \"s_avg\"], ascending=[False, False]))[\n",
    "    [\"city\", \"name\"]\n",
    "].values[:10].tolist()\n",
    "shares"
   ]
  }
 ],
 "metadata": {
  "kernelspec": {
   "display_name": ".venv",
   "language": "python",
   "name": "python3"
  },
  "language_info": {
   "codemirror_mode": {
    "name": "ipython",
    "version": 3
   },
   "file_extension": ".py",
   "mimetype": "text/x-python",
   "name": "python",
   "nbconvert_exporter": "python",
   "pygments_lexer": "ipython3",
   "version": "3.12.3"
  }
 },
 "nbformat": 4,
 "nbformat_minor": 2
}
