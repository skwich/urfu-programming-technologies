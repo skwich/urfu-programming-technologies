{
 "cells": [
  {
   "cell_type": "code",
   "execution_count": 40,
   "metadata": {},
   "outputs": [],
   "source": [
    "import pandas as pd\n",
    "df = pd.read_csv(\"vacancies.csv\", names=[\"name\", \"from\", \"to\", \"cur\", \"city\", \"date\"])"
   ]
  },
  {
   "cell_type": "code",
   "execution_count": null,
   "metadata": {},
   "outputs": [
    {
     "data": {
      "text/plain": [
       "{0: {'Название вакансии': 'Программист С++/Qt',\n",
       "  'Зарплата от': 100000.0,\n",
       "  'Зарплата до': 120000.0,\n",
       "  'Город': 'Барнаул'},\n",
       " 36: {'Название вакансии': 'Инженер сотовых телефонов',\n",
       "  'Зарплата от': 20000.0,\n",
       "  'Зарплата до': 25000.0,\n",
       "  'Город': 'Барнаул'},\n",
       " 57: {'Название вакансии': 'Android разработчик',\n",
       "  'Зарплата от': 55000.0,\n",
       "  'Зарплата до': 90000.0,\n",
       "  'Город': 'Барнаул'},\n",
       " 182: {'Название вакансии': 'Специалист технической поддержки ИТ',\n",
       "  'Зарплата от': 25000.0,\n",
       "  'Зарплата до': 35000.0,\n",
       "  'Город': 'Барнаул'},\n",
       " 615: {'Название вакансии': 'Концепт-художник (Новосибирск)',\n",
       "  'Зарплата от': 50000.0,\n",
       "  'Зарплата до': 70000.0,\n",
       "  'Город': 'Барнаул'},\n",
       " 709: {'Название вакансии': 'Специалист технической поддержки',\n",
       "  'Зарплата от': 25000.0,\n",
       "  'Зарплата до': 30000.0,\n",
       "  'Город': 'Барнаул'},\n",
       " 884: {'Название вакансии': 'Тестировщик ПО (QA)',\n",
       "  'Зарплата от': 20000.0,\n",
       "  'Зарплата до': 35000.0,\n",
       "  'Город': 'Барнаул'}}"
      ]
     },
     "execution_count": 45,
     "metadata": {},
     "output_type": "execute_result"
    }
   ],
   "source": [
    "city = \"Барнаул\"\n",
    "copy_df = df.copy(deep=True)\n",
    "copy_df = copy_df[copy_df[\"city\"] == city][[\"name\", \"from\", \"to\", \"city\"]]\n",
    "copy_df.columns = [\"Название вакансии\", \"Зарплата от\", \"Зарплата до\", \"Город\"]\n",
    "d = copy_df.to_dict(orient='index')"
   ]
  }
 ],
 "metadata": {
  "kernelspec": {
   "display_name": ".venv",
   "language": "python",
   "name": "python3"
  },
  "language_info": {
   "codemirror_mode": {
    "name": "ipython",
    "version": 3
   },
   "file_extension": ".py",
   "mimetype": "text/x-python",
   "name": "python",
   "nbconvert_exporter": "python",
   "pygments_lexer": "ipython3",
   "version": "3.12.3"
  }
 },
 "nbformat": 4,
 "nbformat_minor": 2
}
