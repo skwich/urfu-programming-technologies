{
 "cells": [
  {
   "cell_type": "code",
   "execution_count": null,
   "metadata": {},
   "outputs": [],
   "source": [
    "import pandas as pd\n",
    "import requests\n",
    "import time\n",
    "from concurrent.futures import ThreadPoolExecutor\n",
    "\n",
    "st = time.time()\n",
    "start_date = pd.to_datetime('2003-01-01')\n",
    "end_date = pd.to_datetime('2024-12-01')\n",
    "dates_range = pd.date_range(start_date, end_date, freq='MS').to_list()\n",
    "BASE_URL = \"https://www.cbr.ru/scripts/XML_daily.asp?date_req=\"\n",
    "list_of_rows = []\n",
    "\n",
    "with ThreadPoolExecutor(10) as executor:\n",
    "    response = executor.map(requests.get, [f\"{BASE_URL}{date}\" for date in dates_range])\n",
    "    for data in response:\n",
    "        df = pd.read_xml(data.text)\n",
    "        df\n",
    "        break"
   ]
  }
 ],
 "metadata": {
  "kernelspec": {
   "display_name": ".venv",
   "language": "python",
   "name": "python3"
  },
  "language_info": {
   "codemirror_mode": {
    "name": "ipython",
    "version": 3
   },
   "file_extension": ".py",
   "mimetype": "text/x-python",
   "name": "python",
   "nbconvert_exporter": "python",
   "pygments_lexer": "ipython3",
   "version": "3.12.3"
  }
 },
 "nbformat": 4,
 "nbformat_minor": 2
}
