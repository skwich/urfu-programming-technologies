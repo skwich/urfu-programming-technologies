{
 "cells": [
  {
   "cell_type": "code",
   "execution_count": 72,
   "metadata": {},
   "outputs": [],
   "source": [
    "import math\n",
    "import pandas as pd\n",
    "import sqlite3\n",
    "\n",
    "df_currency = pd.read_csv('valutes.csv', index_col='date')\n",
    "csv_merged = pd.read_csv('vacancies_dif_currencies.csv')\n",
    "result = pd.DataFrame(columns=['id','name','salary','area_name','published_at']).set_index('id')\n",
    "\n",
    "def to_rub(df):\n",
    "    salary, currency, date = df[\"salary\"], df[\"salary_currency\"], df[\"published_at\"][:7]\n",
    "    if currency == \"RUR\":\n",
    "        return salary\n",
    "    if salary > 0 and currency is not None and any(df_currency.index.isin([date])):\n",
    "        value = df_currency[df_currency.index == date][currency].values[0]\n",
    "        if value > 0:\n",
    "            return salary * value\n",
    "    return None\n",
    "\n",
    "csv_merged['salary'] = csv_merged[['salary_from','salary_to']].mean(axis=1)\n",
    "csv_merged['salary'] = csv_merged.apply(to_rub, axis=1)\n",
    "result['name'] = csv_merged['name']\n",
    "result['salary'] = csv_merged['salary']\n",
    "result['area_name'] = csv_merged['area_name']\n",
    "result['published_at'] = csv_merged['published_at']\n",
    "result.index += 1\n",
    "\n",
    "conn = sqlite3.connect('student_works/vacancies.db')\n",
    "result.to_sql('vacancies', conn)\n",
    "conn.close()"
   ]
  }
 ],
 "metadata": {
  "kernelspec": {
   "display_name": ".venv",
   "language": "python",
   "name": "python3"
  },
  "language_info": {
   "codemirror_mode": {
    "name": "ipython",
    "version": 3
   },
   "file_extension": ".py",
   "mimetype": "text/x-python",
   "name": "python",
   "nbconvert_exporter": "python",
   "pygments_lexer": "ipython3",
   "version": "3.12.3"
  }
 },
 "nbformat": 4,
 "nbformat_minor": 2
}
