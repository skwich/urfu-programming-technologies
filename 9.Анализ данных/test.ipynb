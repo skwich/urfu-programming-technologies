{
 "cells": [
  {
   "cell_type": "code",
   "execution_count": 219,
   "metadata": {},
   "outputs": [],
   "source": [
    "import pandas as pd\n",
    "\n",
    "vacancies = pd.read_csv('vacancies_small.csv')"
   ]
  },
  {
   "cell_type": "code",
   "execution_count": 220,
   "metadata": {},
   "outputs": [],
   "source": [
    "df = vacancies[['area_name', 'salary_from', 'salary_to', 'salary_currency']]\n",
    "df = df.loc[df['salary_currency'] == 'RUR']"
   ]
  },
  {
   "cell_type": "code",
   "execution_count": 221,
   "metadata": {},
   "outputs": [],
   "source": [
    "df['average_salary'] = df[['salary_from','salary_to']].mean(1, skipna=True).astype(int)"
   ]
  },
  {
   "cell_type": "code",
   "execution_count": 222,
   "metadata": {},
   "outputs": [],
   "source": [
    "df = df.drop(['salary_from', 'salary_to', 'salary_currency'], axis=1)"
   ]
  },
  {
   "cell_type": "code",
   "execution_count": 223,
   "metadata": {},
   "outputs": [],
   "source": [
    "dictionary = df.groupby('area_name')['average_salary'].agg('mean').round().astype(int).to_dict()"
   ]
  },
  {
   "cell_type": "code",
   "execution_count": 224,
   "metadata": {},
   "outputs": [
    {
     "data": {
      "text/plain": [
       "{'Москва': 143810,\n",
       " 'Волгодонск': 130000,\n",
       " 'Екатеринбург': 122500,\n",
       " 'Санкт-Петербург': 109464,\n",
       " 'Домодедово': 105000,\n",
       " 'Хабаровск': 100000,\n",
       " 'Железногорск (Красноярский край)': 91100,\n",
       " 'Сосновоборск': 91100,\n",
       " 'Ленинск-Кузнецкий': 90000,\n",
       " 'Свердловский': 85000,\n",
       " 'Красноярск': 80559,\n",
       " 'Брянск': 80000,\n",
       " 'Вологда': 80000,\n",
       " 'Дубна': 80000,\n",
       " 'Ростов-на-Дону': 80000,\n",
       " 'Артем': 75000,\n",
       " 'Уссурийск': 75000,\n",
       " 'Южно-Сахалинск': 75000,\n",
       " 'Новосибирск': 73333,\n",
       " 'Владивосток': 72507,\n",
       " 'Ярославль': 70000,\n",
       " 'Пермь': 67500,\n",
       " 'Долгопрудный': 65000,\n",
       " 'Чита': 65000,\n",
       " 'Орел': 62500,\n",
       " 'Казань': 61250,\n",
       " 'Томск': 60500,\n",
       " 'Кемерово': 60000,\n",
       " 'Нижний Новгород': 59167,\n",
       " 'Иркутск': 55000,\n",
       " 'Красногорск': 55000,\n",
       " 'Самара': 53333,\n",
       " 'Владимир': 50000,\n",
       " 'Рощино (Ленинградская область)': 50000,\n",
       " 'Тула': 47500,\n",
       " 'Воронеж': 47000,\n",
       " 'Краснодар': 46875,\n",
       " 'Раменское': 46000,\n",
       " 'Благовещенск (Амурская область)': 45000,\n",
       " 'Новочеркасск': 45000,\n",
       " 'Краснознаменск (Калининградская область)': 42500,\n",
       " 'Бердск': 40000,\n",
       " 'Большой Камень': 40000,\n",
       " 'Елабуга': 37000,\n",
       " 'Мамадыш': 37000,\n",
       " 'Менделеевск': 37000,\n",
       " 'Набережные Челны': 37000,\n",
       " 'Саратов': 37000,\n",
       " 'Липецк': 36250,\n",
       " 'Калининград': 35000,\n",
       " 'Камень-на-Оби': 34000,\n",
       " 'Феодосия': 34000,\n",
       " 'Барнаул': 30000,\n",
       " 'Люберцы': 30000,\n",
       " 'Петрозаводск': 30000,\n",
       " 'Псков': 30000,\n",
       " 'Сочи': 26000,\n",
       " 'Нижнеудинск': 25000}"
      ]
     },
     "execution_count": 224,
     "metadata": {},
     "output_type": "execute_result"
    }
   ],
   "source": [
    "dict(sorted(dictionary.items(), key=lambda x: x[1], reverse=True))"
   ]
  }
 ],
 "metadata": {
  "kernelspec": {
   "display_name": ".venv",
   "language": "python",
   "name": "python3"
  },
  "language_info": {
   "codemirror_mode": {
    "name": "ipython",
    "version": 3
   },
   "file_extension": ".py",
   "mimetype": "text/x-python",
   "name": "python",
   "nbconvert_exporter": "python",
   "pygments_lexer": "ipython3",
   "version": "3.12.3"
  }
 },
 "nbformat": 4,
 "nbformat_minor": 2
}
