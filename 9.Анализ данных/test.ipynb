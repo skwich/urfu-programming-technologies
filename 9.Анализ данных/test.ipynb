{
 "cells": [
  {
   "cell_type": "code",
   "execution_count": 33,
   "metadata": {},
   "outputs": [],
   "source": [
    "import pandas as pd\n",
    "from collections import Counter\n",
    "\n",
    "vacancies = pd.read_csv('vacancies_small.csv', encoding='utf-8-sig')\n",
    "\n",
    "name = input()\n",
    "sort_type = False if input() == 'asc' else True"
   ]
  },
  {
   "cell_type": "code",
   "execution_count": 34,
   "metadata": {},
   "outputs": [],
   "source": [
    "df = vacancies[vacancies['name'].str.contains(name, case=False, na=False)]"
   ]
  },
  {
   "cell_type": "code",
   "execution_count": 72,
   "metadata": {},
   "outputs": [
    {
     "data": {
      "text/plain": [
       "[('PHP\\r', 3),\n",
       " ('1С: Документооборот\\r', 3),\n",
       " ('MS SQL Server\\r', 3),\n",
       " ('1С: Зарплата и управление персоналом\\r', 5),\n",
       " ('1С программирование\\r', 5)]"
      ]
     },
     "execution_count": 72,
     "metadata": {},
     "output_type": "execute_result"
    }
   ],
   "source": [
    "def format_cell(x):\n",
    "    if isinstance(x, str):\n",
    "        return x.split('\\n')\n",
    "\n",
    "skills = df[df['key_skills'].notna()]\n",
    "skills = skills['key_skills'].apply(lambda x: format_cell(x)).tolist()\n",
    "counter = Counter(sum(skills, []))\n",
    "sorted(counter.most_common(5), key=lambda x: x[1], reverse=sort_type)"
   ]
  }
 ],
 "metadata": {
  "kernelspec": {
   "display_name": ".venv",
   "language": "python",
   "name": "python3"
  },
  "language_info": {
   "codemirror_mode": {
    "name": "ipython",
    "version": 3
   },
   "file_extension": ".py",
   "mimetype": "text/x-python",
   "name": "python",
   "nbconvert_exporter": "python",
   "pygments_lexer": "ipython3",
   "version": "3.12.3"
  }
 },
 "nbformat": 4,
 "nbformat_minor": 2
}
