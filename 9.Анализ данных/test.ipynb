{
 "cells": [
  {
   "cell_type": "code",
   "execution_count": 5,
   "metadata": {},
   "outputs": [],
   "source": [
    "import pandas as pd\n",
    "\n",
    "vacancies = pd.read_csv('vacancies_small.csv')\n",
    "\n",
    "column = input()\n",
    "key = input()\n",
    "sort_by = input()\n",
    "sort_type = True if input() == 'asc' else False"
   ]
  },
  {
   "cell_type": "code",
   "execution_count": 9,
   "metadata": {},
   "outputs": [],
   "source": [
    "vacancies.fillna(False, inplace=True)"
   ]
  },
  {
   "cell_type": "code",
   "execution_count": null,
   "metadata": {},
   "outputs": [
    {
     "data": {
      "text/plain": [
       "['Ассистент руководителя технического отдела',\n",
       " 'Менеджер проектов / менеджер по продажам (IT-решений)',\n",
       " 'Программист 1С',\n",
       " 'Бизнес аналитик 1С',\n",
       " 'Аналитик (Контур.Фокус)']"
      ]
     },
     "execution_count": 27,
     "metadata": {},
     "output_type": "execute_result"
    }
   ],
   "source": [
    "vacancies.index.name = 'IND'\n",
    "output = (vacancies\n",
    "    [vacancies[column].isin([key,key.lower(),key.upper()])]\n",
    "    .sort_values(by=[sort_by, 'IND'], ascending=[sort_type, True])['name']\n",
    "    .tolist()\n",
    ")\n",
    "output"
   ]
  }
 ],
 "metadata": {
  "kernelspec": {
   "display_name": ".venv",
   "language": "python",
   "name": "python3"
  },
  "language_info": {
   "codemirror_mode": {
    "name": "ipython",
    "version": 3
   },
   "file_extension": ".py",
   "mimetype": "text/x-python",
   "name": "python",
   "nbconvert_exporter": "python",
   "pygments_lexer": "ipython3",
   "version": "3.12.3"
  }
 },
 "nbformat": 4,
 "nbformat_minor": 2
}
